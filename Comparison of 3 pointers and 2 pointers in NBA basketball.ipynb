{
 "cells": [
  {
   "cell_type": "markdown",
   "metadata": {},
   "source": [
    "# Comparison of 3 pointers and 2 pointers in NBA basketball\n",
    "\n",
    "With the ongoing evolution of nba basketball, there has been some controversy as to how the game should be played. While the older generation may appreciate a classic Kareem Abdul-Jabbar sky hook, some of the newer fans may find Steph Curry's unbelievable half court attempts to be the optimal basketball experience. My goal is to simply run simulations of two different hypothetical nba teams with extreme play styles: one of which only shoots 2 pointers and the other 3 pointers. Afterwards, I will interpret the results.\n",
    "\n",
    "Unlike some of my previous projects pertaining to genetic data analysis, this project will be light in nature. Basketball is a passion of mine, and I do like to dive into some simulation analysis."
   ]
  },
  {
   "cell_type": "markdown",
   "metadata": {},
   "source": [
    "Importing packages as well as initializing parameters."
   ]
  },
  {
   "cell_type": "code",
   "execution_count": 20,
   "metadata": {},
   "outputs": [],
   "source": [
    "import numpy as np\n",
    "import random\n",
    "import matplotlib.pyplot as plt\n",
    "from collections import Counter\n",
    "import scipy.stats as stats\n",
    "\n",
    "#I created my own values that are consistent with historical nba data. I want the expected value of both 3 point shooting\n",
    "#teams and 2 point shooting teams to be the same.\n",
    "\n",
    "tmax=100 #possessions\n",
    "n0=0 # initial conditions, same for both values of r\n",
    "trp = (1/3) #three point percentage\n",
    "twp = (1/2) #two point percentage\n",
    "gam = 1000 #number of games"
   ]
  },
  {
   "cell_type": "code",
   "execution_count": 21,
   "metadata": {},
   "outputs": [],
   "source": [
    "##### Three pointers\n",
    "\n",
    "r=3\n",
    "n=np.zeros(tmax+1) # initialize arrays\n",
    "n[0]=n0 # initial population level\n",
    "\n",
    "##### Two pointers\n",
    "\n",
    "f=2\n",
    "m=np.zeros(tmax+1) # initialize arrays\n",
    "m[0]=n0 # initial population level"
   ]
  },
  {
   "cell_type": "code",
   "execution_count": 22,
   "metadata": {},
   "outputs": [],
   "source": [
    "#final data array as well as games won array\n",
    "\n",
    "final = np.zeros((gam, 2))\n",
    "final_two = np.zeros((gam))\n",
    "final_three = np.zeros((gam))\n",
    "\n",
    "gwon = np.zeros(gam)#games won"
   ]
  },
  {
   "cell_type": "markdown",
   "metadata": {},
   "source": [
    "Conducting a for loop to simulate nba games between the 2 point team and the 3 point team."
   ]
  },
  {
   "cell_type": "code",
   "execution_count": 23,
   "metadata": {},
   "outputs": [],
   "source": [
    "#Iterations\n",
    "\n",
    "def simulate(games, percent, shot, possesions, array, final_score):\n",
    "    for i in range(gam):    \n",
    "\n",
    "        for t in range(tmax):\n",
    "            s = random.uniform(0,1)\n",
    "            if s < (percent):\n",
    "                p = 1\n",
    "            else:\n",
    "                p = 0\n",
    "\n",
    "            Fn = p*shot + array[t]\n",
    "            array[t+1] = Fn\n",
    "            \n",
    "        final_score[i] = array[-1]\n",
    "\n",
    "    return final_score"
   ]
  },
  {
   "cell_type": "code",
   "execution_count": 24,
   "metadata": {
    "scrolled": true
   },
   "outputs": [],
   "source": [
    "final_three = simulate(games = gam, percent = trp, shot = r, possesions = tmax, array = n, final_score = final_three)"
   ]
  },
  {
   "cell_type": "code",
   "execution_count": 25,
   "metadata": {},
   "outputs": [],
   "source": [
    "final_two = simulate(games = gam, percent = twp, shot = f, possesions = tmax, array = m, final_score = final_two)"
   ]
  },
  {
   "cell_type": "code",
   "execution_count": 26,
   "metadata": {},
   "outputs": [
    {
     "data": {
      "text/plain": [
       "array([[105., 104.],\n",
       "       [ 99., 116.],\n",
       "       [111., 104.],\n",
       "       ...,\n",
       "       [108., 100.],\n",
       "       [120.,  88.],\n",
       "       [ 96., 112.]])"
      ]
     },
     "execution_count": 26,
     "metadata": {},
     "output_type": "execute_result"
    }
   ],
   "source": [
    "final[:, 0] = final_three\n",
    "final[:, 1] = final_two\n",
    "final"
   ]
  },
  {
   "cell_type": "markdown",
   "metadata": {},
   "source": [
    "Introducing basic statistics for both teams. Note the greater variance for the 3 point team compared with the 2 point team."
   ]
  },
  {
   "cell_type": "code",
   "execution_count": 27,
   "metadata": {},
   "outputs": [
    {
     "name": "stdout",
     "output_type": "stream",
     "text": [
      "3 pointers average score: 99.663\n",
      "3 pointers score standard deviation 14.118549181838763\n",
      "2 pointers average score: 99.75\n",
      "2 pointers score deviation 9.94572772601382\n"
     ]
    }
   ],
   "source": [
    "#Elementary Stats\n",
    "\n",
    "print(\"3 pointers average score:\", np.mean(final[:,0]))\n",
    "print(\"3 pointers score standard deviation\", np.std(final[:,0]))\n",
    "print(\"2 pointers average score:\", np.mean(final[:,1]))\n",
    "print(\"2 pointers score deviation\", np.std(final[:,1]))"
   ]
  },
  {
   "cell_type": "markdown",
   "metadata": {},
   "source": [
    "Number of games won should be close to equal between the two teams, since the expected value is equal.\n",
    "\n",
    "$$\n",
    "E[TeamThreePointer] = 3*Three point Percentage*Possessions = E[TeamTwoPointer] = 2*Two point Percentage*Possessions\n",
    "$$"
   ]
  },
  {
   "cell_type": "code",
   "execution_count": 28,
   "metadata": {},
   "outputs": [
    {
     "name": "stdout",
     "output_type": "stream",
     "text": [
      "Counter({2.0: 502, 3.0: 481, 0.0: 17})\n"
     ]
    }
   ],
   "source": [
    "#Determining Games won\n",
    "\n",
    "for i in range(gam):\n",
    "    if final[i, 0] > final[i, 1]:\n",
    "        gwon[i] = 3\n",
    "    if final[i, 0] < final[i, 1]:\n",
    "        gwon[i] = 2\n",
    "\n",
    "#print(gwon)\n",
    "#3 means 3 pointers won, 2 means 2 pointers won, 0 means a draw\n",
    "#Draws do not exist in NBA games, since that would result in overtime play, but for the sake of simplicity,\n",
    "#we will assume that draws do exist.\n",
    "\n",
    "print(Counter(gwon))"
   ]
  },
  {
   "cell_type": "markdown",
   "metadata": {},
   "source": [
    "Plots displaying the difference in score between the two teams. As noted before, it is interesting that the variance of the final score is greater for the 3 point team compared with the 2 point team."
   ]
  },
  {
   "cell_type": "code",
   "execution_count": 29,
   "metadata": {},
   "outputs": [
    {
     "data": {
      "text/plain": [
       "Text(0.5, 1.0, '2d Histogram')"
      ]
     },
     "execution_count": 29,
     "metadata": {},
     "output_type": "execute_result"
    },
    {
     "data": {
      "image/png": "[encoded data removed]",
      "text/plain": [
       "<Figure size 432x288 with 1 Axes>"
      ]
     },
     "metadata": {
      "needs_background": "light"
     },
     "output_type": "display_data"
    },
    {
     "data": {
      "image/png": "[encoded data removed]",
      "text/plain": [
       "<Figure size 432x288 with 1 Axes>"
      ]
     },
     "metadata": {
      "needs_background": "light"
     },
     "output_type": "display_data"
    },
    {
     "data": {
      "image/png": "[encoded data removed]",
      "text/plain": [
       "<Figure size 432x288 with 1 Axes>"
      ]
     },
     "metadata": {
      "needs_background": "light"
     },
     "output_type": "display_data"
    }
   ],
   "source": [
    "#Plots\n",
    "\n",
    "gs = np.arange(1, gam+1, 1)#game step\n",
    "\n",
    "plt.figure(1)\n",
    "\n",
    "plt.plot(gs, final[:,0], '.')\n",
    "plt.plot(gs, final[:,1], '.')\n",
    "plt.legend((\"3 pointers\", \"2 pointers\"))\n",
    "plt.title(\"3 points vs 2 points games\")\n",
    "plt.ylabel(\"Points\")\n",
    "plt.xlabel(\"Games\")\n",
    "\n",
    "plt.figure(2)\n",
    "\n",
    "plt.hist(final[:,0])\n",
    "plt.hist(final[:,1], alpha = 0.5)\n",
    "plt.legend((\"3 pointers\", \"2 pointers\"))\n",
    "plt.title(\"Histogram\")\n",
    "\n",
    "plt.figure(3)\n",
    "\n",
    "plt.hist2d(final[:,0], final[:,1])\n",
    "plt.xlabel(\"3 points score\")\n",
    "plt.ylabel(\"2 points score\")\n",
    "plt.title(\"2d Histogram\")"
   ]
  },
  {
   "cell_type": "markdown",
   "metadata": {},
   "source": [
    "Conducted a Barlett test comparing the variances of the two populations. I chose this test over the F-test since the F-test is sensitive to departures of normality. Since the simulated data may not follow a perfect normal distribution (as seen above), I believe using a Barlett test would be safer.\n",
    "\n",
    "As we can see, the p-value is extremely low, indicating a significant difference between the variances of the two populations."
   ]
  },
  {
   "cell_type": "code",
   "execution_count": 30,
   "metadata": {},
   "outputs": [
    {
     "data": {
      "text/plain": [
       "BartlettResult(statistic=120.13044304996068, pvalue=5.923472611634802e-28)"
      ]
     },
     "execution_count": 30,
     "metadata": {},
     "output_type": "execute_result"
    }
   ],
   "source": [
    "stats.bartlett(final[:,0], final[:,1])"
   ]
  },
  {
   "cell_type": "markdown",
   "metadata": {},
   "source": [
    "Since the variance of the 3 point team is significantly larger than the 2 point team, one may assume that the difference in \n",
    "final score between two 3 point shooting teams is larger than two 2 point shooting teams.\n",
    "\n",
    "As such, I will continue to run simulations but between two 2 point shooting teams and two 3 point shooting teams."
   ]
  },
  {
   "cell_type": "code",
   "execution_count": 31,
   "metadata": {},
   "outputs": [],
   "source": [
    "#Final Difference of Scores of the Three Point Shooting Teams (1st 3 columns) and Two Point Shooting Teams (Last 3 Columns)\n",
    "\n",
    "final_difference = np.zeros((gam, 6))"
   ]
  },
  {
   "cell_type": "code",
   "execution_count": 32,
   "metadata": {},
   "outputs": [
    {
     "data": {
      "text/plain": [
       "array([[ 87., 111., -24.,  88., 100., -12.],\n",
       "       [ 96.,  81.,  15., 114.,  92.,  22.],\n",
       "       [ 99.,  96.,   3., 106., 102.,   4.],\n",
       "       ...,\n",
       "       [111., 102.,   9.,  96.,  94.,   2.],\n",
       "       [ 96.,  90.,   6., 108.,  94.,  14.],\n",
       "       [ 99.,  87.,  12.,  94., 112., -18.]])"
      ]
     },
     "execution_count": 32,
     "metadata": {},
     "output_type": "execute_result"
    }
   ],
   "source": [
    "final_difference[:,0] = simulate(games = gam, percent = trp, shot = r, possesions = tmax, array = n, final_score = final_three)\n",
    "final_difference[:,1] = simulate(games = gam, percent = trp, shot = r, possesions = tmax, array = n, final_score = final_three)\n",
    "final_difference[:,2] = final_difference[:,0] - final_difference[:,1]#Difference of Scores between 3-Point Shooting Teams\n",
    "\n",
    "final_difference[:,3] = simulate(games = gam, percent = twp, shot = f, possesions = tmax, array = m, final_score = final_two)\n",
    "final_difference[:,4] = simulate(games = gam, percent = twp, shot = f, possesions = tmax, array = m, final_score = final_two)\n",
    "final_difference[:,5] = final_difference[:,3] - final_difference[:,4]#Difference of Scores between 2-point Shooting Teams\n",
    "\n",
    "final_difference"
   ]
  },
  {
   "cell_type": "markdown",
   "metadata": {},
   "source": [
    "Plotting the difference of scores between 3 point shooting teams and 2 point shooting teams."
   ]
  },
  {
   "cell_type": "code",
   "execution_count": 33,
   "metadata": {},
   "outputs": [
    {
     "data": {
      "text/plain": [
       "Text(0.5, 1.0, 'Histogram')"
      ]
     },
     "execution_count": 33,
     "metadata": {},
     "output_type": "execute_result"
    },
    {
     "data": {
      "image/png": "[encoded data removed]",
      "text/plain": [
       "<Figure size 432x288 with 1 Axes>"
      ]
     },
     "metadata": {
      "needs_background": "light"
     },
     "output_type": "display_data"
    }
   ],
   "source": [
    "plt.hist(final_difference[:,2])\n",
    "plt.hist(final_difference[:,5], alpha = 0.5)\n",
    "plt.legend((\"3 pointers score difference\", \"2 pointers score difference\"))\n",
    "plt.title(\"Histogram\")"
   ]
  },
  {
   "cell_type": "markdown",
   "metadata": {},
   "source": [
    "### Discussion\n",
    "\n",
    "Many of the simulation analyses conducted here could easily be obtained through mathematical expression. Nevertheless, simulating the data gives us a visual representation of our final inferences. That being said, the most striking result is the fact that the variance of the final score for 3 point shooting teams is significantly greater than for 2 point shooting teams. Given this greater variance, one may assume that the variance of the difference in final scores between teams that solely shoot 3 pointers would be greater than those that solely shoot 2 pointers, which is displayed in the final graph above. This can also be represented in the following equation assuming independence:\n",
    "\n",
    "$$\n",
    "Var(X-Y) = Var(X) + Var(Y)\n",
    "$$\n",
    "\n",
    "Since we know that the variance of 3 point shooting is larger than 2 point shooting, we can deduce from the equation that the variance of the final scores will be larger if the individual teams shoot more 3 pointers than 2 pointers, despite the expected value of the final scores being the same for both teams (as illustrated above).\n",
    "\n",
    "This begs the question, what is more exciting to watch, a close contest between two teams exchanging slow mid-range jumpers and jump hooks, or an explosive barrage of three pointers that will more likely result in a blowout? I cannot answer this question. However, I do believe that the NBA is a sport of trends. Perhaps what is most exciting is the oscillation between one play style and the other as time goes on. This will keep the game fresh for long term nba fans, and we have seen this cycle before. During the 1970s, basketball was played at a high pace, with the score easily surpassing the 100s. When the 1990's rolled around, the game started to slow down. During the 2000's, it was not uncommon to see scores like 74-53 like the infamous Pistons-Nuggets game in 2002. Right now, it is clear that we are in an upward trajectory where high scoring games with many three pointers are the norm. One day, when the average nba fan becomes less exhilarated by these scorelines and style of play, we may see a return to \"old-school\" slow basketball."
   ]
  }
 ],
 "metadata": {
  "kernelspec": {
   "display_name": "Python 3",
   "language": "python",
   "name": "python3"
  },
  "language_info": {
   "codemirror_mode": {
    "name": "ipython",
    "version": 3
   },
   "file_extension": ".py",
   "mimetype": "text/x-python",
   "name": "python",
   "nbconvert_exporter": "python",
   "pygments_lexer": "ipython3",
   "version": "3.8.3"
  }
 },
 "nbformat": 4,
 "nbformat_minor": 4
}
